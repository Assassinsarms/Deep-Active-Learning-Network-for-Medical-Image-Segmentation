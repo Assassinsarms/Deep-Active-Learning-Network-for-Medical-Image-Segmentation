{
 "cells": [
  {
   "cell_type": "markdown",
   "source": [
    "# INM363 Deep Active Learning Network for Medical Image Segmentation\r\n",
    "\r\n",
    "## Exploration + Preprocessing\r\n",
    "\r\n",
    "### Aaron Mir (Student Number: 160001207)\r\n",
    "\r\n",
    "### https://github.com/Assassinsarms/Deep-Active-Learning-Network-for-Medical-Image-Segmentation"
   ],
   "metadata": {}
  },
  {
   "cell_type": "code",
   "execution_count": 2,
   "source": [
    "import os\r\n",
    "from glob import glob\r\n",
    "import cv2\r\n",
    "import sys\r\n",
    "import matplotlib.colors as colors\r\n",
    "import matplotlib.pyplot as plt\r\n",
    "import numpy as np\r\n",
    "import nibabel as nib\r\n",
    "from nibabel.testing import data_path\r\n",
    "# importing packages for visualisation and pre-processing\r\n",
    "import SimpleITK as sitk\r\n",
    "import time\r\n",
    "import itk                 \r\n",
    "import itkwidgets\r\n",
    "from ipywidgets import interact, interactive, IntSlider, ToggleButtons\r\n",
    "from sklearn.model_selection import train_test_split"
   ],
   "outputs": [],
   "metadata": {}
  },
  {
   "cell_type": "markdown",
   "source": [
    "## Initial Data Investigation"
   ],
   "metadata": {}
  },
  {
   "cell_type": "code",
   "execution_count": 3,
   "source": [
    "bratshgg_path = glob(r\"D:\\\\AI MSc Large Modules\\\\Masters_Project\\\\CODE\\Deep-Active-Learning-Network-for-Medical-Image-Segmentation\\\\data\\\\MICCAI_BraTS_2018_Data_Training\\\\HGG\")\r\n",
    "bratslgg_path = glob(r\"D:\\\\AI MSc Large Modules\\\\Masters_Project\\\\CODE\\Deep-Active-Learning-Network-for-Medical-Image-Segmentation\\\\data\\\\MICCAI_BraTS_2018_Data_Training\\\\LGG\")"
   ],
   "outputs": [],
   "metadata": {}
  },
  {
   "cell_type": "code",
   "execution_count": 4,
   "source": [
    "image_1 = os.path.join(bratshgg_path + '\\Brats18_2013_2_1\\Brats18_2013_2_1_flair.nii.gz') \r\n",
    "# accessing the first training image\r\n",
    "image_1 = nib.load(image_1) \r\n",
    "# loading the training image"
   ],
   "outputs": [],
   "metadata": {}
  },
  {
   "cell_type": "code",
   "execution_count": 5,
   "source": [
    "image_1.shape \r\n",
    "# looking at the shape (240x240 pixels), 155 frames, 4 dimensions (FLAIR, T1w, T1gd, T2w)"
   ],
   "outputs": [
    {
     "output_type": "execute_result",
     "data": {
      "text/plain": [
       "(240, 240, 155)"
      ]
     },
     "metadata": {},
     "execution_count": 5
    }
   ],
   "metadata": {}
  },
  {
   "cell_type": "code",
   "execution_count": 11,
   "source": [
    "print(image_1) # looking at the header"
   ],
   "outputs": [
    {
     "output_type": "stream",
     "name": "stdout",
     "text": [
      "<class 'nibabel.nifti1.Nifti1Image'>\n",
      "data shape (240, 240, 155)\n",
      "affine: \n",
      "[[ -1.   0.   0.  -0.]\n",
      " [  0.  -1.   0. 239.]\n",
      " [  0.   0.   1.   0.]\n",
      " [  0.   0.   0.   1.]]\n",
      "metadata:\n",
      "<class 'nibabel.nifti1.Nifti1Header'> object, endian='<'\n",
      "sizeof_hdr      : 348\n",
      "data_type       : b''\n",
      "db_name         : b''\n",
      "extents         : 0\n",
      "session_error   : 0\n",
      "regular         : b'r'\n",
      "dim_info        : 0\n",
      "dim             : [  3 240 240 155   1   1   1   1]\n",
      "intent_p1       : 0.0\n",
      "intent_p2       : 0.0\n",
      "intent_p3       : 0.0\n",
      "intent_code     : none\n",
      "datatype        : int16\n",
      "bitpix          : 16\n",
      "slice_start     : 0\n",
      "pixdim          : [1. 1. 1. 1. 0. 0. 0. 0.]\n",
      "vox_offset      : 0.0\n",
      "scl_slope       : nan\n",
      "scl_inter       : nan\n",
      "slice_end       : 0\n",
      "slice_code      : unknown\n",
      "xyzt_units      : 2\n",
      "cal_max         : 0.0\n",
      "cal_min         : 0.0\n",
      "slice_duration  : 0.0\n",
      "toffset         : 0.0\n",
      "glmax           : 0\n",
      "glmin           : 0\n",
      "descrip         : b''\n",
      "aux_file        : b''\n",
      "qform_code      : aligned\n",
      "sform_code      : scanner\n",
      "quatern_b       : 0.0\n",
      "quatern_c       : 0.0\n",
      "quatern_d       : 1.0\n",
      "qoffset_x       : -0.0\n",
      "qoffset_y       : 239.0\n",
      "qoffset_z       : 0.0\n",
      "srow_x          : [-1.  0.  0. -0.]\n",
      "srow_y          : [  0.  -1.   0. 239.]\n",
      "srow_z          : [0. 0. 1. 0.]\n",
      "intent_name     : b''\n",
      "magic           : b'n+1'\n"
     ]
    }
   ],
   "metadata": {}
  },
  {
   "cell_type": "code",
   "execution_count": 12,
   "source": [
    "image_1_data = image_1.get_fdata()  \r\n",
    "# transforming to np array - don't need to use np.asarray necessarily "
   ],
   "outputs": [],
   "metadata": {}
  },
  {
   "cell_type": "code",
   "execution_count": 13,
   "source": [
    "image_1_data.shape \r\n",
    "# looking at the shape"
   ],
   "outputs": [
    {
     "output_type": "execute_result",
     "data": {
      "text/plain": [
       "(240, 240, 155)"
      ]
     },
     "metadata": {},
     "execution_count": 13
    }
   ],
   "metadata": {}
  },
  {
   "cell_type": "code",
   "execution_count": 31,
   "source": [
    "plt.figure(figsize=(5,5))\r\n",
    "plt.imshow(image_1_data[:,:,108], cmap='gray') \r\n",
    "# plotting the FLAIR of the 108th frame of the 1st image\r\n",
    "plt.colorbar();"
   ],
   "outputs": [
    {
     "output_type": "display_data",
     "data": {
      "image/png": "[encoded data removed]",
      "text/plain": [
       "<Figure size 360x360 with 2 Axes>"
      ]
     },
     "metadata": {
      "needs_background": "light"
     }
    }
   ],
   "metadata": {}
  },
  {
   "cell_type": "markdown",
   "source": [
    "### Initial investigation of the label for the first training image"
   ],
   "metadata": {}
  },
  {
   "cell_type": "code",
   "execution_count": 16,
   "source": [
    "image_1_label = os.path.join(bratshgg_path + '\\Brats18_2013_2_1\\Brats18_2013_2_1_seg.nii.gz') \r\n",
    "# accessing the label for the first training image\r\n",
    "image_1_label = nib.load(image_1_label) \r\n",
    "# loading the label for the first training image"
   ],
   "outputs": [],
   "metadata": {}
  },
  {
   "cell_type": "code",
   "execution_count": 17,
   "source": [
    "image_1_label.shape \r\n",
    "# investigating the shape (240x240 pixels), 155 frames each frame represents the pixels where the tumour is present as demonstrated below "
   ],
   "outputs": [
    {
     "output_type": "execute_result",
     "data": {
      "text/plain": [
       "(240, 240, 155)"
      ]
     },
     "metadata": {},
     "execution_count": 17
    }
   ],
   "metadata": {}
  },
  {
   "cell_type": "code",
   "execution_count": 18,
   "source": [
    "print(image_1_label) \r\n",
    "# looking at the header for the label"
   ],
   "outputs": [
    {
     "output_type": "stream",
     "name": "stdout",
     "text": [
      "<class 'nibabel.nifti1.Nifti1Image'>\n",
      "data shape (240, 240, 155)\n",
      "affine: \n",
      "[[ -1.  -0.  -0.  -0.]\n",
      " [ -0.  -1.  -0. 239.]\n",
      " [  0.   0.   1.   0.]\n",
      " [  0.   0.   0.   1.]]\n",
      "metadata:\n",
      "<class 'nibabel.nifti1.Nifti1Header'> object, endian='<'\n",
      "sizeof_hdr      : 348\n",
      "data_type       : b''\n",
      "db_name         : b''\n",
      "extents         : 0\n",
      "session_error   : 0\n",
      "regular         : b'r'\n",
      "dim_info        : 0\n",
      "dim             : [  3 240 240 155   1   1   1   1]\n",
      "intent_p1       : 0.0\n",
      "intent_p2       : 0.0\n",
      "intent_p3       : 0.0\n",
      "intent_code     : none\n",
      "datatype        : int16\n",
      "bitpix          : 16\n",
      "slice_start     : 0\n",
      "pixdim          : [1. 1. 1. 1. 0. 0. 0. 0.]\n",
      "vox_offset      : 0.0\n",
      "scl_slope       : nan\n",
      "scl_inter       : nan\n",
      "slice_end       : 0\n",
      "slice_code      : unknown\n",
      "xyzt_units      : 2\n",
      "cal_max         : 0.0\n",
      "cal_min         : 0.0\n",
      "slice_duration  : 0.0\n",
      "toffset         : 0.0\n",
      "glmax           : 0\n",
      "glmin           : 0\n",
      "descrip         : b''\n",
      "aux_file        : b''\n",
      "qform_code      : scanner\n",
      "sform_code      : scanner\n",
      "quatern_b       : 0.0\n",
      "quatern_c       : 0.0\n",
      "quatern_d       : 1.0\n",
      "qoffset_x       : -0.0\n",
      "qoffset_y       : 239.0\n",
      "qoffset_z       : 0.0\n",
      "srow_x          : [-1. -0. -0. -0.]\n",
      "srow_y          : [ -0.  -1.  -0. 239.]\n",
      "srow_z          : [0. 0. 1. 0.]\n",
      "intent_name     : b''\n",
      "magic           : b'n+1'\n"
     ]
    }
   ],
   "metadata": {}
  },
  {
   "cell_type": "code",
   "execution_count": 19,
   "source": [
    "image_1_label_data = image_1_label.get_fdata() \r\n",
    "# transforming to np array - don't need to use np.asarray necessarily"
   ],
   "outputs": [],
   "metadata": {}
  },
  {
   "cell_type": "code",
   "execution_count": 20,
   "source": [
    "image_1_label_data.shape \r\n",
    "# investigating the shape"
   ],
   "outputs": [
    {
     "output_type": "execute_result",
     "data": {
      "text/plain": [
       "(240, 240, 155)"
      ]
     },
     "metadata": {},
     "execution_count": 20
    }
   ],
   "metadata": {}
  },
  {
   "cell_type": "code",
   "execution_count": 30,
   "source": [
    "plt.figure(figsize=(5,5))\r\n",
    "plt.imshow(image_1_label_data[:,:,108], cmap='gray') \r\n",
    "# plotting the label of the 1st training image - 55th frame shows clearly the tumour and 0-3 represents tumour class\r\n",
    "plt.colorbar();"
   ],
   "outputs": [
    {
     "output_type": "display_data",
     "data": {
      "image/png": "[encoded data removed]",
      "text/plain": [
       "<Figure size 360x360 with 2 Axes>"
      ]
     },
     "metadata": {
      "needs_background": "light"
     }
    }
   ],
   "metadata": {}
  },
  {
   "cell_type": "markdown",
   "source": [
    "## 3D MRI Visualisation"
   ],
   "metadata": {}
  },
  {
   "cell_type": "code",
   "execution_count": 6,
   "source": [
    "image_1 = os.path.join(bratshgg_path + '\\Brats18_2013_2_1\\Brats18_2013_2_1_flair.nii.gz') \r\n",
    "# accessing the first training image\r\n",
    "image_1 = nib.load(image_1) \r\n",
    "# loading the training image\r\n",
    "image_1_data = image_1.get_fdata() \r\n",
    "# converting to np array"
   ],
   "outputs": [],
   "metadata": {}
  },
  {
   "cell_type": "code",
   "execution_count": 7,
   "source": [
    "height, width, depth = image_1_data.shape         \r\n",
    "# getting the dimensions\r\n",
    "print(f'This image has the following dimensions: \\nHeight = {height}\\nWidth = {width}\\nDepth = {depth}')"
   ],
   "outputs": [
    {
     "output_type": "stream",
     "name": "stdout",
     "text": [
      "This image has the following dimensions: \n",
      "Height = 240\n",
      "Width = 240\n",
      "Depth = 155\n"
     ]
    }
   ],
   "metadata": {}
  },
  {
   "cell_type": "code",
   "execution_count": 8,
   "source": [
    "# Function enabling interaction of all MRI layers\r\n",
    "def visualisation(layer):                 \r\n",
    "    plt.figure(figsize=(5,5))\r\n",
    "    channel = 0\r\n",
    "    plt.imshow(image_1_data[:,:, layer], cmap='gray')\r\n",
    "    plt.title('Visualisation of Layers of Brain MRI', family='Arial', fontsize=20)\r\n",
    "    plt.axis('off')\r\n",
    "    return layer\r\n",
    "\r\n",
    "interact(visualisation, layer = (0, image_1_data.shape[2]-1));"
   ],
   "outputs": [
    {
     "output_type": "display_data",
     "data": {
      "application/vnd.jupyter.widget-view+json": {
       "version_major": 2,
       "version_minor": 0,
       "model_id": "d8649802c30441d89a316fbc842b92ad"
      },
      "text/plain": [
       "interactive(children=(IntSlider(value=77, description='layer', max=154), Output()), _dom_classes=('widget-inte…"
      ]
     },
     "metadata": {}
    }
   ],
   "metadata": {}
  },
  {
   "cell_type": "code",
   "execution_count": 9,
   "source": [
    "## Doing the same as above for the labels\r\n",
    "image_1_label = os.path.join(bratshgg_path + '\\Brats18_2013_2_1\\Brats18_2013_2_1_seg.nii.gz') \r\n",
    "# accessing the label for the first training image\r\n",
    "image_1_label = nib.load(image_1_label) \r\n",
    "# loading the label for the first training image\r\n",
    "image_1_label_data = image_1_label.get_fdata()"
   ],
   "outputs": [],
   "metadata": {}
  },
  {
   "cell_type": "code",
   "execution_count": 10,
   "source": [
    "height, width, depth = image_1_label_data.shape         \r\n",
    "# getting the dimensions\r\n",
    "print(f'This image has the following dimensions: \\nHeight = {height}\\nWidth = {width}\\nDepth = {depth}.')\r\n",
    "print(f'With the unique values: {np.unique(image_1_label_data)}.')\r\n",
    "print('''Corresponding to the label categories:             \r\n",
    " 0: for background,\r\n",
    " 1: for non-enhancing tumour,\r\n",
    " 2: for edema\r\n",
    " 4: for enhancing tumour''')                            \r\n",
    " # outlining the labels"
   ],
   "outputs": [
    {
     "output_type": "stream",
     "name": "stdout",
     "text": [
      "This image has the following dimensions: \n",
      "Height = 240\n",
      "Width = 240\n",
      "Depth = 155.\n",
      "With the unique values: [0. 1. 2. 4.].\n",
      "Corresponding to the label categories:             \n",
      " 0: for background,\n",
      " 1: for non-enhancing tumour,\n",
      " 2: for edema\n",
      " 4: for enhancing tumour\n"
     ]
    }
   ],
   "metadata": {}
  },
  {
   "cell_type": "code",
   "execution_count": 11,
   "source": [
    "classes = {\r\n",
    "    'Background' : 0.,\r\n",
    "    'Non-enhancing Tumour' : 1.,\r\n",
    "    'Edema' : 2.,\r\n",
    "    'Enhancing Tumour' : 4.,\r\n",
    "}\r\n",
    "select_class = ToggleButtons(\r\n",
    "    options = ['Background','Non-enhancing Tumour', 'Edema', 'Enhancing Tumour'],\r\n",
    "    description = 'Select Class:',\r\n",
    "    disabled = False,\r\n",
    "    button_style = 'info', \r\n",
    "    \r\n",
    ")\r\n",
    "select_layer = IntSlider(min=0, max=154, description='Select Layer', continuous_update=False)\r\n",
    "\r\n",
    "def plot_image(seg_class, layer):\r\n",
    "    print(f\"Plotting {layer} Layer Label: {seg_class}\")\r\n",
    "    img_label = classes[seg_class]\r\n",
    "    mask = np.where(image_1_label_data[:,:, layer] == img_label, 255, 0)\r\n",
    "    plt.figure(figsize=(10,5))\r\n",
    "    plt.imshow(mask, cmap='gray')\r\n",
    "    plt.axis('off');\r\n",
    "# interactive jupyter widget to show different class labels\r\n",
    "interactive(plot_image, seg_class = select_class, layer = select_layer) \r\n",
    "# remember the white space represents the class that is being shown"
   ],
   "outputs": [
    {
     "output_type": "display_data",
     "data": {
      "application/vnd.jupyter.widget-view+json": {
       "version_major": 2,
       "version_minor": 0,
       "model_id": "dd958a38df184521875384f9dc394046"
      },
      "text/plain": [
       "interactive(children=(ToggleButtons(button_style='info', description='Select Class:', options=('Background', '…"
      ]
     },
     "metadata": {}
    }
   ],
   "metadata": {}
  },
  {
   "cell_type": "markdown",
   "source": [
    "## Viewing Data after Preprocessing\r\n",
    "\r\n",
    "### Summary of steps performed:\r\n",
    "- N4ITK bias correction \r\n",
    "- Normalise to zero mean and unit variance\r\n",
    "- 1% of the top and bottom intensities removed "
   ],
   "metadata": {}
  },
  {
   "cell_type": "code",
   "execution_count": 2,
   "source": [
    "img = np.load('data\\\\train\\\\img\\\\Brats18_2013_2_1_108.npy')"
   ],
   "outputs": [],
   "metadata": {}
  },
  {
   "cell_type": "code",
   "execution_count": 3,
   "source": [
    "img.shape\r\n",
    "# one .npy file contains 4 slices of flair, t1, t1ce and t2"
   ],
   "outputs": [
    {
     "output_type": "execute_result",
     "data": {
      "text/plain": [
       "(160, 160, 4)"
      ]
     },
     "metadata": {},
     "execution_count": 3
    }
   ],
   "metadata": {}
  },
  {
   "cell_type": "code",
   "execution_count": 21,
   "source": [
    "plt.imshow(img[:,:,0], cmap='gray') # 0 is flair, 1 is t1, 2 is t1ce, 3 is t2\r\n",
    "plt.colorbar(fraction=0.046, pad=0.04)\r\n",
    "plt.title(\"N4 Bias Corrected, Normalised, Filtered and Cropped FLAIR MRI slice\");\r\n",
    "#plt.savefig('ss.png')"
   ],
   "outputs": [
    {
     "output_type": "display_data",
     "data": {
      "image/png": "[encoded data removed]",
      "text/plain": [
       "<Figure size 432x288 with 2 Axes>"
      ]
     },
     "metadata": {
      "needs_background": "light"
     }
    }
   ],
   "metadata": {}
  }
 ],
 "metadata": {
  "interpreter": {
   "hash": "2db524e06e9f5f4ffedc911c917cb75e12dbc923643829bf417064a77eb14d37"
  },
  "kernelspec": {
   "name": "python3",
   "display_name": "Python 3.8.7 64-bit"
  },
  "language_info": {
   "codemirror_mode": {
    "name": "ipython",
    "version": 3
   },
   "file_extension": ".py",
   "mimetype": "text/x-python",
   "name": "python",
   "nbconvert_exporter": "python",
   "pygments_lexer": "ipython3",
   "version": "3.8.7"
  },
  "orig_nbformat": 4
 },
 "nbformat": 4,
 "nbformat_minor": 2
}