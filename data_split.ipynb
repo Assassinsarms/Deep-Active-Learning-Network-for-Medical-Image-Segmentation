{
 "cells": [
  {
   "cell_type": "code",
   "execution_count": 51,
   "source": [
    "import numpy as np\r\n",
    "from glob import glob\r\n",
    "import pickle"
   ],
   "outputs": [],
   "metadata": {}
  },
  {
   "cell_type": "code",
   "execution_count": 59,
   "source": [
    "ALL_IMAGES_DIR = glob(r\"data\\\\all_data\\\\img\\\\*\")\r\n",
    "ALL_MASK_DIR = glob(r\"data\\\\all_data\\\\label\\\\*\")"
   ],
   "outputs": [],
   "metadata": {}
  },
  {
   "cell_type": "code",
   "execution_count": 60,
   "source": [
    "# 20/20/60 train test unlabelled\r\n",
    "np.random.shuffle(ALL_IMAGES_DIR)\r\n",
    "train_val_img = ALL_IMAGES_DIR[:1000]\r\n",
    "test_img = ALL_IMAGES_DIR[1000:2000]\r\n",
    "unlabelled_img = ALL_IMAGES_DIR[2000:5000]\r\n",
    "train_val_label = []\r\n",
    "for i in train_val_img:\r\n",
    "    train_val_label.append(i.replace(\"img\", \"label\"))\r\n",
    "test_label = []\r\n",
    "for i in test_img:\r\n",
    "    test_label.append(i.replace(\"img\", \"label\"))\r\n",
    "unlabelled_label = []\r\n",
    "for i in unlabelled_img:\r\n",
    "    unlabelled_label.append(i.replace(\"img\", \"label\"))\r\n",
    "pickle.dump(train_val_img, open('data/train_val/img/train_val.data', 'wb'), -1)\r\n",
    "pickle.dump(train_val_label, open('data/train_val/label/train_val.mask', 'wb'), -1)\r\n",
    "pickle.dump(test_img, open('data/test/img/test.data', 'wb'), -1)\r\n",
    "pickle.dump(test_label, open('data/test/label/test.mask', 'wb'), -1)\r\n",
    "pickle.dump(unlabelled_img, open('data/unlabelled/img/unlabelled.data', 'wb'), -1)\r\n",
    "pickle.dump(unlabelled_label, open('data/unlabelled/label/unlabelled.mask', 'wb'), -1)"
   ],
   "outputs": [],
   "metadata": {}
  }
 ],
 "metadata": {
  "orig_nbformat": 4,
  "language_info": {
   "name": "python",
   "version": "3.8.7",
   "mimetype": "text/x-python",
   "codemirror_mode": {
    "name": "ipython",
    "version": 3
   },
   "pygments_lexer": "ipython3",
   "nbconvert_exporter": "python",
   "file_extension": ".py"
  },
  "kernelspec": {
   "name": "python3",
   "display_name": "Python 3.8.7 64-bit"
  },
  "interpreter": {
   "hash": "2db524e06e9f5f4ffedc911c917cb75e12dbc923643829bf417064a77eb14d37"
  }
 },
 "nbformat": 4,
 "nbformat_minor": 2
}