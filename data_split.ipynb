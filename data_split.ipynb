{
 "cells": [
  {
   "cell_type": "markdown",
   "metadata": {},
   "source": [
    "# INM363 Deep Active Learning Network for Medical Image Segmentation\n",
    "\n",
    "## Training/validation, unlabelled, test data split\n",
    "\n",
    "### Aaron Mir (Student Number: 160001207)\n",
    "\n",
    "### https://github.com/Assassinsarms/Deep-Active-Learning-Network-for-Medical-Image-Segmentation"
   ]
  },
  {
   "cell_type": "code",
   "execution_count": 51,
   "metadata": {},
   "outputs": [],
   "source": [
    "import numpy as np\n",
    "from glob import glob\n",
    "import pickle"
   ]
  },
  {
   "cell_type": "code",
   "execution_count": 59,
   "metadata": {},
   "outputs": [],
   "source": [
    "ALL_IMAGES_DIR = glob(r\"data\\\\all_data\\\\img\\\\*\")\n",
    "ALL_MASK_DIR = glob(r\"data\\\\all_data\\\\label\\\\*\")"
   ]
  },
  {
   "cell_type": "code",
   "execution_count": 60,
   "metadata": {},
   "outputs": [],
   "source": [
    "# 20/20/60 train test unlabelled\n",
    "np.random.shuffle(ALL_IMAGES_DIR)\n",
    "train_val_img = ALL_IMAGES_DIR[:1000]\n",
    "test_img = ALL_IMAGES_DIR[1000:2000]\n",
    "unlabelled_img = ALL_IMAGES_DIR[2000:5000]\n",
    "train_val_label = []\n",
    "for i in train_val_img:\n",
    "    train_val_label.append(i.replace(\"img\", \"label\"))\n",
    "test_label = []\n",
    "for i in test_img:\n",
    "    test_label.append(i.replace(\"img\", \"label\"))\n",
    "unlabelled_label = []\n",
    "for i in unlabelled_img:\n",
    "    unlabelled_label.append(i.replace(\"img\", \"label\"))\n",
    "\n",
    "# files contain paths of slices chosen for each set. All pre-processed samples can be found in the 'all_data' folder\n",
    "pickle.dump(train_val_img, open('data/train_val/img/train_val.data', 'wb'), -1)\n",
    "pickle.dump(train_val_label, open('data/train_val/label/train_val.mask', 'wb'), -1)\n",
    "pickle.dump(test_img, open('data/test/img/test.data', 'wb'), -1)\n",
    "pickle.dump(test_label, open('data/test/label/test.mask', 'wb'), -1)\n",
    "pickle.dump(unlabelled_img, open('data/unlabelled/img/unlabelled.data', 'wb'), -1)\n",
    "pickle.dump(unlabelled_label, open('data/unlabelled/label/unlabelled.mask', 'wb'), -1)"
   ]
  }
 ],
 "metadata": {
  "interpreter": {
   "hash": "2db524e06e9f5f4ffedc911c917cb75e12dbc923643829bf417064a77eb14d37"
  },
  "kernelspec": {
   "display_name": "Python 3.8.7 64-bit",
   "name": "python3"
  },
  "language_info": {
   "codemirror_mode": {
    "name": "ipython",
    "version": 3
   },
   "file_extension": ".py",
   "mimetype": "text/x-python",
   "name": "python",
   "nbconvert_exporter": "python",
   "pygments_lexer": "ipython3",
   "version": "3.8.7"
  },
  "orig_nbformat": 4
 },
 "nbformat": 4,
 "nbformat_minor": 2
}
